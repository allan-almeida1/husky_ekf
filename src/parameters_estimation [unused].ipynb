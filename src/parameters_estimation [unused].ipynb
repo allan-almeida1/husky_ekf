{
 "cells": [
  {
   "cell_type": "markdown",
   "metadata": {},
   "source": [
    "# Identificação dos Parâmetros"
   ]
  },
  {
   "cell_type": "code",
   "execution_count": 54,
   "metadata": {},
   "outputs": [
    {
     "name": "stdout",
     "output_type": "stream",
     "text": [
      "Left: -1.5971928357000005 Right: 1.5864002814000004\n",
      "Total theta: 1.23920879621\n",
      "Distance traveled: 0.9216565220168753\n",
      "Xicr: 1.972568297131967\n",
      "-1.5971928357000005\n",
      "Alpha: -170.79488254543642\n",
      "X: 0.21175117558751297\n",
      "ICRr: 1.2845265167729247\n"
     ]
    }
   ],
   "source": [
    "import matplotlib.pyplot as plt\n",
    "import json\n",
    "import numpy as np\n",
    "\n",
    "joint_states = None\n",
    "ground_truth = None\n",
    "with open('/home/allan/catkin_ws/src/husky_ekf/joint_data.json') as f:\n",
    "    joint_states = json.load(f)\n",
    "\n",
    "with open('/home/allan/catkin_ws/src/husky_ekf/gt_data.json') as f:\n",
    "    ground_truth = json.load(f)\n",
    "\n",
    "joint_velocity = [s['velocity'] for s in joint_states]\n",
    "wheel_radius = 330e-3/2\n",
    "front_left_velocity = np.array([v['front_left'] for v in joint_velocity]) * wheel_radius\n",
    "front_right_velocity = np.array([v['front_right'] for v in joint_velocity]) * wheel_radius\n",
    "rear_left_velocity = np.array([v['rear_left'] for v in joint_velocity]) * wheel_radius\n",
    "rear_right_velocity = np.array([v['rear_right'] for v in joint_velocity]) * wheel_radius\n",
    "timestamp = np.array([s['timestamp'] for s in joint_states])\n",
    "integral_front_left = np.trapz(front_left_velocity, timestamp)\n",
    "integral_front_right = np.trapz(front_right_velocity, timestamp)\n",
    "integral_rear_left = np.trapz(rear_left_velocity, timestamp)\n",
    "integral_rear_right = np.trapz(rear_right_velocity, timestamp)\n",
    "integral_left = (integral_front_left + integral_rear_left) / 2\n",
    "integral_right = (integral_front_right + integral_rear_right) / 2\n",
    "print('Left: {} Right: {}'.format(integral_left, integral_right))\n",
    "total_theta = ground_truth[-1]['theta'] - ground_truth[0]['theta']\n",
    "print('Total theta: {}'.format(total_theta))\n",
    "d_traveled = np.sqrt((ground_truth[-1]['x'] - ground_truth[0]['x'])**2 + (ground_truth[-1]['y'] - ground_truth[0]['y'])**2)\n",
    "print('Distance traveled: {}'.format(d_traveled))\n",
    "xicr = (integral_right - integral_left) / 2 * total_theta\n",
    "print('Xicr: {}'.format(xicr))\n",
    "alpha = 2 * d_traveled / (integral_left + integral_right)\n",
    "print(integral_left)\n",
    "print('Alpha: {}'.format(alpha))\n",
    "\n",
    "L = (544)*1e-3\n",
    "X = L*total_theta/(integral_right-integral_left)\n",
    "print('X: {}'.format(X))\n",
    "ICRr = L / (2* X)\n",
    "print('ICRr: {}'.format(ICRr))"
   ]
  }
 ],
 "metadata": {
  "kernelspec": {
   "display_name": "myvenv",
   "language": "python",
   "name": "python3"
  },
  "language_info": {
   "codemirror_mode": {
    "name": "ipython",
    "version": 3
   },
   "file_extension": ".py",
   "mimetype": "text/x-python",
   "name": "python",
   "nbconvert_exporter": "python",
   "pygments_lexer": "ipython3",
   "version": "3.8.10"
  },
  "orig_nbformat": 4
 },
 "nbformat": 4,
 "nbformat_minor": 2
}
